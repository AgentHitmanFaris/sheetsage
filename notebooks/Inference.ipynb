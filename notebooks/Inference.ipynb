{
 "cells": [
  {
   "cell_type": "code",
   "execution_count": 1,
   "id": "f05f5756",
   "metadata": {},
   "outputs": [
    {
     "name": "stderr",
     "output_type": "stream",
     "text": [
      "INFO:root:FETCHING_AUDIO\n",
      "INFO:root:Retrieving audio from https://foodgroup.bandcamp.com/track/universe\n",
      "INFO:root:DETECTING_BEATS\n",
      "INFO:root:EXTRACTING_FEATURES\n",
      "INFO:root:Feature extraction w/ Jukebox could take several minutes.\n",
      "INFO:root:TRANSCRIBING\n",
      "INFO:root:FORMATTING\n",
      "INFO:root:DONE\n"
     ]
    }
   ],
   "source": [
    "# Transcribe\n",
    "\n",
    "AUDIO_URL = 'https://foodgroup.bandcamp.com/track/universe'\n",
    "USE_JUKEBOX = True\n",
    "SEGMENT_START_HINT = 69\n",
    "SEGMENT_END_HINT = 88\n",
    "BPM_HINT = 76\n",
    "\n",
    "import logging\n",
    "\n",
    "from sheetsage.infer import sheetsage\n",
    "\n",
    "logging.basicConfig(level=logging.INFO)\n",
    "lead_sheet, segment_beats, segment_beats_times = sheetsage(\n",
    "    AUDIO_URL,\n",
    "    use_jukebox=USE_JUKEBOX,\n",
    "    segment_start_hint=SEGMENT_START_HINT,\n",
    "    segment_end_hint=SEGMENT_END_HINT,\n",
    "    beats_per_minute_hint=BPM_HINT)"
   ]
  },
  {
   "cell_type": "code",
   "execution_count": 2,
   "id": "57035755",
   "metadata": {},
   "outputs": [
    {
     "data": {
      "image/png": "[encoded data removed]",
      "text/plain": [
       "<IPython.core.display.Image object>"
      ]
     },
     "metadata": {},
     "output_type": "display_data"
    }
   ],
   "source": [
    "# Display lead sheet\n",
    "\n",
    "from IPython.display import display, Image\n",
    "\n",
    "from sheetsage.utils import engrave\n",
    "\n",
    "lead_sheet_png = engrave(lead_sheet.as_lily())\n",
    "display(Image(lead_sheet_png))"
   ]
  },
  {
   "cell_type": "code",
   "execution_count": 3,
   "id": "90e22fdb",
   "metadata": {},
   "outputs": [],
   "source": [
    "# Create MIDI\n",
    "\n",
    "from io import BytesIO\n",
    "import pretty_midi\n",
    "\n",
    "from sheetsage.align import create_beat_to_time_fn\n",
    "\n",
    "beat_to_time_fn = create_beat_to_time_fn(segment_beats, segment_beats_times)\n",
    "midi_bytes = lead_sheet.as_midi(beat_to_time_fn)\n",
    "midi = pretty_midi.PrettyMIDI(BytesIO(midi_bytes))"
   ]
  },
  {
   "cell_type": "code",
   "execution_count": 5,
   "id": "7d025ad1",
   "metadata": {},
   "outputs": [],
   "source": [
    "# Synthesize aligned transcription preview\n",
    "\n",
    "import librosa\n",
    "from IPython.display import display, Audio\n",
    "\n",
    "from sheetsage.utils import retrieve_audio_bytes\n",
    "\n",
    "start_time = beat_to_time_fn(0)\n",
    "end_time = beat_to_time_fn(lead_sheet[-1] / 4)\n",
    "audio, sr = librosa.load(\n",
    "    BytesIO(retrieve_audio_bytes(AUDIO_URL)),\n",
    "    offset=start_time,\n",
    "    duration=end_time - start_time,\n",
    "    mono=True)\n",
    "preview = midi.fluidsynth(fs=sr)\n",
    "preview = preview[round(start_time * sr):]\n",
    "preview = preview[:audio.shape[0]]\n",
    "display(Audio([audio, preview], rate=sr))"
   ]
  }
 ],
 "metadata": {
  "kernelspec": {
   "display_name": "Python 3",
   "language": "python",
   "name": "python3"
  },
  "language_info": {
   "codemirror_mode": {
    "name": "ipython",
    "version": 3
   },
   "file_extension": ".py",
   "mimetype": "text/x-python",
   "name": "python",
   "nbconvert_exporter": "python",
   "pygments_lexer": "ipython3",
   "version": "3.6.9"
  }
 },
 "nbformat": 4,
 "nbformat_minor": 5
}
